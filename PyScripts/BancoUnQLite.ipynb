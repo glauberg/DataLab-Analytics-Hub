{
 "cells": [
  {
   "cell_type": "code",
   "execution_count": 2,
   "id": "43812475",
   "metadata": {},
   "outputs": [
    {
     "data": {
      "text/plain": [
       "True"
      ]
     },
     "execution_count": 2,
     "metadata": {},
     "output_type": "execute_result"
    }
   ],
   "source": [
    "import unqlite\n",
    "\n",
    "# Cria ou abre o banco de dados\n",
    "db = unqlite.UnQLite(\"meu_banco.db\")\n",
    "\n",
    "# Adiciona um registro\n",
    "db[\"nome\"] = \"Maria\"\n",
    "db[\"email\"] = \"maria@email.com\"\n",
    "db[\"cpf\"] = \"1111111111\"\n",
    "\n",
    "# Fecha o banco de dados\n",
    "db.close()"
   ]
  },
  {
   "cell_type": "code",
   "execution_count": null,
   "id": "833627e8",
   "metadata": {},
   "outputs": [],
   "source": [
    "# Inclui novos dados ao banco\n",
    "# Abre o banco de dados\n",
    "db = unqlite.UnQLite(\"meu_banco.db\")\n",
    "\n",
    "# Define os dados do novo registro\n",
    "chave = \"email\"\n",
    "valor = \"maria@gmail.com\"\n",
    "\n",
    "# Adiciona o novo registro ao banco de dados\n",
    "db[chave] = valor\n",
    "\n",
    "print(\"Novo registro adicionado com sucesso.\")\n",
    "\n",
    "# Fecha o banco de dados\n",
    "db.close()\n"
   ]
  },
  {
   "cell_type": "code",
   "execution_count": 3,
   "id": "9181096b",
   "metadata": {},
   "outputs": [
    {
     "name": "stdout",
     "output_type": "stream",
     "text": [
      "Valor da chave 'nome': b'Maria'\n"
     ]
    },
    {
     "data": {
      "text/plain": [
       "True"
      ]
     },
     "execution_count": 3,
     "metadata": {},
     "output_type": "execute_result"
    }
   ],
   "source": [
    "# Consulta ao banco de dados\n",
    "# Abre o banco de dados\n",
    "db = unqlite.UnQLite(\"meu_banco.db\")\n",
    "\n",
    "# Obtém o valor associado à chave\n",
    "chave = \"nome\"\n",
    "valor = db[chave]\n",
    "\n",
    "# Exibe o valor\n",
    "print(f\"Valor da chave '{chave}': {valor}\")\n",
    "\n",
    "# Fecha o banco de dados\n",
    "db.close()"
   ]
  },
  {
   "cell_type": "code",
   "execution_count": null,
   "id": "45d90d7c",
   "metadata": {},
   "outputs": [],
   "source": [
    "# Alteração de dados no banco\n",
    "# Abre o banco de dados\n",
    "db = unqlite.UnQLite(\"meu_banco.db\")\n",
    "\n",
    "# Define a chave do registro a ser atualizado\n",
    "chave = \"nome\"\n",
    "\n",
    "# Verifica se a chave existe no banco de dados\n",
    "if chave in db:\n",
    "    # Obtém o valor atual da chave\n",
    "    valor_atual = db[chave]\n",
    "\n",
    "    # Exibe o valor atual\n",
    "    print(f\"Valor atual da chave '{chave}': {valor_atual}\")\n",
    "\n",
    "    # Solicita o novo valor da chave\n",
    "    novo_valor = input(\"Digite o novo valor: \")\n",
    "\n",
    "    # Atualiza o valor da chave no banco de dados\n",
    "    db[chave] = novo_valor\n",
    "\n",
    "    print(\"Registro atualizado com sucesso.\")\n",
    "else:\n",
    "    print(f\"A chave '{chave}' não existe no banco de dados.\")\n",
    "\n",
    "# Fecha o banco de dados\n",
    "db.close()\n"
   ]
  },
  {
   "cell_type": "code",
   "execution_count": 1,
   "id": "2683f568",
   "metadata": {},
   "outputs": [
    {
     "name": "stdout",
     "output_type": "stream",
     "text": [
      "Banco de dados excluído com sucesso.\n"
     ]
    }
   ],
   "source": [
    "import os\n",
    "\n",
    "# Nome do arquivo do banco de dados\n",
    "nome_arquivo = \"meu_banco.db\"\n",
    "\n",
    "# Verifica se o arquivo existe\n",
    "if os.path.exists(nome_arquivo):\n",
    "    # Exclui o arquivo do banco de dados\n",
    "    os.remove(nome_arquivo)\n",
    "    print(\"Banco de dados excluído com sucesso.\")\n",
    "else:\n",
    "    print(\"O banco de dados não existe.\")"
   ]
  },
  {
   "cell_type": "code",
   "execution_count": null,
   "id": "895c7bbd",
   "metadata": {},
   "outputs": [],
   "source": []
  }
 ],
 "metadata": {
  "kernelspec": {
   "display_name": "Python 3 (ipykernel)",
   "language": "python",
   "name": "python3"
  },
  "language_info": {
   "codemirror_mode": {
    "name": "ipython",
    "version": 3
   },
   "file_extension": ".py",
   "mimetype": "text/x-python",
   "name": "python",
   "nbconvert_exporter": "python",
   "pygments_lexer": "ipython3",
   "version": "3.10.9"
  }
 },
 "nbformat": 4,
 "nbformat_minor": 5
}
